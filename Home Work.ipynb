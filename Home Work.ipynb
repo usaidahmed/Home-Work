{
 "cells": [
  {
   "cell_type": "code",
   "execution_count": 1,
   "metadata": {},
   "outputs": [
    {
     "name": "stdout",
     "output_type": "stream",
     "text": [
      "Hello,World\n"
     ]
    }
   ],
   "source": [
    "print(\"Hello,World\")"
   ]
  },
  {
   "cell_type": "code",
   "execution_count": 2,
   "metadata": {},
   "outputs": [
    {
     "name": "stdout",
     "output_type": "stream",
     "text": [
      "Mark\n"
     ]
    }
   ],
   "source": [
    "name=\"Mark\"\n",
    "print(name)"
   ]
  },
  {
   "cell_type": "code",
   "execution_count": 3,
   "metadata": {},
   "outputs": [
    {
     "name": "stdout",
     "output_type": "stream",
     "text": [
      "Mark\n"
     ]
    }
   ],
   "source": [
    "lesson_author=\"Mark\"\n",
    "print(lesson_author)"
   ]
  },
  {
   "cell_type": "code",
   "execution_count": 4,
   "metadata": {},
   "outputs": [
    {
     "name": "stdout",
     "output_type": "stream",
     "text": [
      "Thanks For your input\n"
     ]
    }
   ],
   "source": [
    "Thanx=\"Thanks For your input\"\n",
    "print(Thanx)"
   ]
  },
  {
   "cell_type": "code",
   "execution_count": 5,
   "metadata": {},
   "outputs": [
    {
     "data": {
      "text/plain": [
       "38"
      ]
     },
     "execution_count": 5,
     "metadata": {},
     "output_type": "execute_result"
    }
   ],
   "source": [
    "orignal_num=23\n",
    "New_num=orignal_num+15\n",
    "New_num"
   ]
  },
  {
   "cell_type": "code",
   "execution_count": 6,
   "metadata": {},
   "outputs": [
    {
     "name": "stdout",
     "output_type": "stream",
     "text": [
      "4\n"
     ]
    }
   ],
   "source": [
    "popular_number=2+2\n",
    "print(2+2)"
   ]
  },
  {
   "cell_type": "code",
   "execution_count": 7,
   "metadata": {},
   "outputs": [
    {
     "name": "stdout",
     "output_type": "stream",
     "text": [
      "12\n"
     ]
    }
   ],
   "source": [
    "loss=24-12\n",
    "print(loss)"
   ]
  },
  {
   "cell_type": "code",
   "execution_count": 8,
   "metadata": {},
   "outputs": [
    {
     "name": "stdout",
     "output_type": "stream",
     "text": [
      "6\n"
     ]
    }
   ],
   "source": [
    "dozens=3*2\n",
    "print(dozens)"
   ]
  },
  {
   "cell_type": "code",
   "execution_count": 9,
   "metadata": {},
   "outputs": [
    {
     "data": {
      "text/plain": [
       "3.0"
      ]
     },
     "execution_count": 9,
     "metadata": {},
     "output_type": "execute_result"
    }
   ],
   "source": [
    "popular_number=12/4\n",
    "popular_number"
   ]
  },
  {
   "cell_type": "code",
   "execution_count": 10,
   "metadata": {},
   "outputs": [
    {
     "data": {
      "text/plain": [
       "1"
      ]
     },
     "execution_count": 10,
     "metadata": {},
     "output_type": "execute_result"
    }
   ],
   "source": [
    "Whats_Left_over= 10 % 3\n",
    "Whats_Left_over"
   ]
  },
  {
   "cell_type": "code",
   "execution_count": 11,
   "metadata": {},
   "outputs": [
    {
     "data": {
      "text/plain": [
       "10"
      ]
     },
     "execution_count": 11,
     "metadata": {},
     "output_type": "execute_result"
    }
   ],
   "source": [
    "age=12\n",
    "age -=2\n",
    "age"
   ]
  },
  {
   "cell_type": "code",
   "execution_count": 12,
   "metadata": {},
   "outputs": [
    {
     "data": {
      "text/plain": [
       "36"
      ]
     },
     "execution_count": 12,
     "metadata": {},
     "output_type": "execute_result"
    }
   ],
   "source": [
    "age=24\n",
    "age +=12\n",
    "age"
   ]
  },
  {
   "cell_type": "code",
   "execution_count": 13,
   "metadata": {},
   "outputs": [
    {
     "data": {
      "text/plain": [
       "57"
      ]
     },
     "execution_count": 13,
     "metadata": {},
     "output_type": "execute_result"
    }
   ],
   "source": [
    "age=54\n",
    "amount_to_increment=3\n",
    "age +=amount_to_increment\n",
    "age"
   ]
  },
  {
   "cell_type": "code",
   "execution_count": 14,
   "metadata": {},
   "outputs": [
    {
     "data": {
      "text/plain": [
       "13"
      ]
     },
     "execution_count": 14,
     "metadata": {},
     "output_type": "execute_result"
    }
   ],
   "source": [
    "total_cost=1+3*4\n",
    "total_cost"
   ]
  },
  {
   "cell_type": "code",
   "execution_count": 15,
   "metadata": {},
   "outputs": [
    {
     "data": {
      "text/plain": [
       "16"
      ]
     },
     "execution_count": 15,
     "metadata": {},
     "output_type": "execute_result"
    }
   ],
   "source": [
    "result_of_computation=(2*4)*+2\n",
    "result_of_computation"
   ]
  },
  {
   "cell_type": "code",
   "execution_count": 16,
   "metadata": {},
   "outputs": [
    {
     "data": {
      "text/plain": [
       "'Hello,World!'"
      ]
     },
     "execution_count": 16,
     "metadata": {},
     "output_type": "execute_result"
    }
   ],
   "source": [
    "greeting=\"Hello\"\n",
    "Addressee= \"World\"\n",
    "punc=\"!\"\n",
    "seperators=\",\"\n",
    "Whole_greeting=greeting+seperators+Addressee+punc\n",
    "Whole_greeting"
   ]
  },
  {
   "cell_type": "code",
   "execution_count": 17,
   "metadata": {},
   "outputs": [
    {
     "name": "stdout",
     "output_type": "stream",
     "text": [
      "The sum of 2 plus 2 is 4\n"
     ]
    }
   ],
   "source": [
    "print(\"The sum of 2 plus 2 is \" + \"4\")"
   ]
  },
  {
   "cell_type": "code",
   "execution_count": 18,
   "metadata": {},
   "outputs": [
    {
     "name": "stdout",
     "output_type": "stream",
     "text": [
      "The sum of 2 plus 2 is 4\n"
     ]
    }
   ],
   "source": [
    "print (\"The sum of 2 plus 2 is \" + str(4))"
   ]
  },
  {
   "cell_type": "code",
   "execution_count": 19,
   "metadata": {},
   "outputs": [
    {
     "name": "stdout",
     "output_type": "stream",
     "text": [
      "Everything Makes Sence\n"
     ]
    }
   ],
   "source": [
    "if 2+2==4:\n",
    "    print(\"Everything Makes Sence\")"
   ]
  },
  {
   "cell_type": "code",
   "execution_count": 20,
   "metadata": {},
   "outputs": [
    {
     "name": "stdout",
     "output_type": "stream",
     "text": [
      "So far so good\n",
      "Congratulations!\n",
      "I'm Proud of you\n"
     ]
    }
   ],
   "source": [
    "Number_of_Husbands=1\n",
    "\n",
    "if Number_of_Husbands==1:\n",
    "    print(\"So far so good\")\n",
    "    print(\"Congratulations!\")\n",
    "    print(\"I'm Proud of you\")"
   ]
  },
  {
   "cell_type": "code",
   "execution_count": 21,
   "metadata": {},
   "outputs": [
    {
     "name": "stdout",
     "output_type": "stream",
     "text": [
      "Mark Myres\n"
     ]
    }
   ],
   "source": [
    "full_name=\"Mark Myres\"\n",
    "if full_name == \"Mark\"+\" \" + \"Myres\":\n",
    "    print(full_name)"
   ]
  },
  {
   "cell_type": "code",
   "execution_count": 22,
   "metadata": {},
   "outputs": [
    {
     "name": "stdout",
     "output_type": "stream",
     "text": [
      "Better luck next time\n"
     ]
    }
   ],
   "source": [
    "your_ticket_number= 487209\n",
    "if your_ticket_number != 487208:\n",
    "    print(\"Better luck next time\")"
   ]
  },
  {
   "cell_type": "code",
   "execution_count": null,
   "metadata": {},
   "outputs": [],
   "source": [
    "if 1 > 0:\n",
    "if 0 < 1:\n",
    "if 1 >= 0:\n",
    "if 1 >= 1:\n",
    "if 1 <= 1:\n",
    "if 0 <= 1:\n",
    "if 1 <= 1:\n",
    "\n",
    "# if condition."
   ]
  },
  {
   "cell_type": "code",
   "execution_count": 23,
   "metadata": {},
   "outputs": [
    {
     "name": "stdout",
     "output_type": "stream",
     "text": [
      "yep its a cat\n"
     ]
    }
   ],
   "source": [
    "species=\"cat\"\n",
    "if species == \"cat\":\n",
    "    print(\"yep its a cat\")\n",
    "\n",
    "if species != \"cat\":\n",
    "    print(\"Nope Its not a cat\")\n"
   ]
  },
  {
   "cell_type": "code",
   "execution_count": 24,
   "metadata": {},
   "outputs": [
    {
     "name": "stdout",
     "output_type": "stream",
     "text": [
      "buy_score : 10\n"
     ]
    }
   ],
   "source": [
    "donut_condition=\"fresh\"\n",
    "donut_price=\"High\"\n",
    "\n",
    "if donut_condition == \"fresh\":\n",
    "    buy_score=10\n",
    "elif donut_price == \"Low\":\n",
    "    but_score=5\n",
    "\n",
    "else:\n",
    "    buy_score = 0\n",
    "print(\"buy_score :\",buy_score)"
   ]
  },
  {
   "cell_type": "code",
   "execution_count": 25,
   "metadata": {},
   "outputs": [
    {
     "name": "stdout",
     "output_type": "stream",
     "text": [
      "buy_score: 10\n"
     ]
    }
   ],
   "source": [
    "donut_condition=\"Fresh\"\n",
    "donut_filling=\"Chocolate\"\n",
    "donut_price=\"Resonable\"\n",
    "\n",
    "buy_score=0\n",
    "\n",
    "if donut_condition == \"Fresh\":\n",
    "    buy_score +=10\n",
    "elif donut_filling == \"Chocolate\":\n",
    "    buy_score +=5\n",
    "elif donut_price == \"Reasonable\":\n",
    "    buy_score +=7\n",
    "else:\n",
    "    buy_score = 0\n",
    "\n",
    "print(\"buy_score:\",buy_score)\n",
    "                \n",
    "                \n",
    "      \n",
    "\n"
   ]
  },
  {
   "cell_type": "code",
   "execution_count": 26,
   "metadata": {},
   "outputs": [
    {
     "name": "stdout",
     "output_type": "stream",
     "text": [
      "Welcome back to Hogwarts, Harry!\n"
     ]
    }
   ],
   "source": [
    "first_name=\"Harry\"\n",
    "last_name=\"Potter\"\n",
    "\n",
    "if first_name == \"Harry\":\n",
    "    if last_name ==\"Potter\":\n",
    "        # if interest == \"Wizardy\"\n",
    "   \n",
    "           print(\"Welcome back to Hogwarts, Harry!\")"
   ]
  },
  {
   "cell_type": "code",
   "execution_count": 27,
   "metadata": {},
   "outputs": [
    {
     "name": "stdout",
     "output_type": "stream",
     "text": [
      "status : Do not recruit him\n"
     ]
    }
   ],
   "source": [
    "weight=250\n",
    "time=4\n",
    "\n",
    "if weight > 300 and time < 6:\n",
    "    status = \"Try to recruit him\"\n",
    "else:\n",
    "    status=\"Do not recruit him\"\n",
    "print(\"status :\",status)"
   ]
  },
  {
   "cell_type": "code",
   "execution_count": 28,
   "metadata": {},
   "outputs": [
    {
     "name": "stdout",
     "output_type": "stream",
     "text": [
      "status : Try to recruit him\n"
     ]
    }
   ],
   "source": [
    "weight=300\n",
    "time=4\n",
    "age=19\n",
    "height= 64\n",
    "\n",
    "if weight >= 300 and time < 6 and age > 17 and height < 72:\n",
    "    status=\"Try to recruit him\"\n",
    "else:\n",
    "    status=\"Do not recruit him\"\n",
    "print(\"status :\",status)"
   ]
  },
  {
   "cell_type": "code",
   "execution_count": 29,
   "metadata": {},
   "outputs": [
    {
     "name": "stdout",
     "output_type": "stream",
     "text": [
      "status : Nope he is not a residence of U.K\n"
     ]
    }
   ],
   "source": [
    "age = 34\n",
    "res= \"U.K\"\n",
    "\n",
    "if age > 65 or age < 21 and res == \"U.K\":\n",
    "    status=\"He is a residence of U.K\"\n",
    "else:\n",
    "    status=\"Nope he is not a residence of U.K\"\n",
    "print(\"status :\",status)"
   ]
  },
  {
   "cell_type": "code",
   "execution_count": null,
   "metadata": {},
   "outputs": [],
   "source": [
    "\n",
    "\n"
   ]
  },
  {
   "cell_type": "code",
   "execution_count": 30,
   "metadata": {},
   "outputs": [
    {
     "name": "stdout",
     "output_type": "stream",
     "text": [
      "welcome to Denver\n"
     ]
    }
   ],
   "source": [
    "city_0 = \"Atlanta\"\n",
    "city_1 = \"Baltimore\"\n",
    "city_2 = \"Chicago\"\n",
    "city_3 = \"Denver\"\n",
    "city_4 = \"Los Angeles\"\n",
    "city_5 = \"Seatle\"\n",
    "\n",
    "print(\"welcome to \" + city_3)\n",
    "                     "
   ]
  },
  {
   "cell_type": "code",
   "execution_count": 31,
   "metadata": {},
   "outputs": [
    {
     "name": "stdout",
     "output_type": "stream",
     "text": [
      "welcome to Denver\n"
     ]
    }
   ],
   "source": [
    "cities = [\"Atlanta\", \"Baltimore\", \"Chicago\", \"Denver\", \"Los Angeles\", \"Seatle\"]\n",
    "\n",
    "print(\"welcome to \" + cities[3])"
   ]
  },
  {
   "cell_type": "code",
   "execution_count": 32,
   "metadata": {},
   "outputs": [
    {
     "name": "stdout",
     "output_type": "stream",
     "text": [
      "['Atlanta', 'Baltimore', 'Chicago', 'Denver', 'Los Angeles', 'Seatle', 'New York']\n"
     ]
    }
   ],
   "source": [
    "cities= [\"Atlanta\", \"Baltimore\", \"Chicago\", \"Denver\", \"Los Angeles\", \"Seatle\"]\n",
    "cities.append(\"New York\")\n",
    "print(cities)"
   ]
  },
  {
   "cell_type": "code",
   "execution_count": 33,
   "metadata": {},
   "outputs": [
    {
     "name": "stdout",
     "output_type": "stream",
     "text": [
      "['Atlanta', 'Baltimore', 'Chicago', 'Denver', 'Los Angeles', 'Seatle', 'New York', 'Dubai', 'New Orleans']\n"
     ]
    }
   ],
   "source": [
    "cities = cities + [\"Dubai\", \"New Orleans\"]\n",
    "print (cities)"
   ]
  },
  {
   "cell_type": "code",
   "execution_count": 34,
   "metadata": {},
   "outputs": [
    {
     "name": "stdout",
     "output_type": "stream",
     "text": [
      "['walk dog', 'Buy groceries']\n"
     ]
    }
   ],
   "source": [
    "todays_task=[]\n",
    "todays_task = todays_task + [\"walk dog\", \"Buy groceries\"]\n",
    "print(todays_task)"
   ]
  },
  {
   "cell_type": "code",
   "execution_count": 35,
   "metadata": {},
   "outputs": [
    {
     "name": "stdout",
     "output_type": "stream",
     "text": [
      "['New York', 'Atlanta', 'Baltimore', 'Chicago', 'Denver', 'Los Angeles', 'Seatle', 'New York', 'Dubai', 'New Orleans']\n"
     ]
    }
   ],
   "source": [
    "cities.insert(0, \"New York\")\n",
    "print(cities)"
   ]
  },
  {
   "cell_type": "code",
   "execution_count": 36,
   "metadata": {},
   "outputs": [
    {
     "name": "stdout",
     "output_type": "stream",
     "text": [
      "['New York', 'Atlanta', 'Dallas', 'Baltimore', 'Chicago', 'Denver', 'Los Angeles', 'Seatle', 'New York', 'Dubai', 'New Orleans']\n"
     ]
    }
   ],
   "source": [
    "cities.insert(2, \"Dallas\")\n",
    "print(cities)"
   ]
  },
  {
   "cell_type": "code",
   "execution_count": 37,
   "metadata": {},
   "outputs": [
    {
     "data": {
      "text/plain": [
       "['Atlanta', 'Baltimore', 'Chicago', 'Denver', 'Los Angeles']"
      ]
     },
     "execution_count": 37,
     "metadata": {},
     "output_type": "execute_result"
    }
   ],
   "source": [
    "cities = [\"Atlanta\", \"Baltimore\", \"Chicago\", \"Denver\", \"Los Angeles\", \"Seatle\"]\n",
    "smaller_no_of_cities = cities[:5]\n",
    "smaller_no_of_cities"
   ]
  },
  {
   "cell_type": "code",
   "execution_count": 38,
   "metadata": {},
   "outputs": [
    {
     "name": "stdout",
     "output_type": "stream",
     "text": [
      "['small Frank', 'call Sarah', 'Meet with Zach']\n"
     ]
    }
   ],
   "source": [
    "tasks = [\"small Frank\", \"call Sarah\", \"Meet with Zach\"]\n",
    "print(tasks)"
   ]
  },
  {
   "cell_type": "code",
   "execution_count": 39,
   "metadata": {},
   "outputs": [
    {
     "name": "stdout",
     "output_type": "stream",
     "text": [
      "['call Sarah', 'Meet with Zach']\n"
     ]
    }
   ],
   "source": [
    "del tasks[0]\n",
    "print(tasks)"
   ]
  },
  {
   "cell_type": "code",
   "execution_count": 40,
   "metadata": {},
   "outputs": [
    {
     "name": "stdout",
     "output_type": "stream",
     "text": [
      "['Meet with Zach']\n"
     ]
    }
   ],
   "source": [
    "tasks.remove(\"call Sarah\")\n",
    "print(tasks)"
   ]
  },
  {
   "cell_type": "code",
   "execution_count": 41,
   "metadata": {},
   "outputs": [
    {
     "name": "stdout",
     "output_type": "stream",
     "text": [
      "Call Sarah\n"
     ]
    }
   ],
   "source": [
    "tasks = []\n",
    "tasks_accomplished = []\n",
    "tasks = [\"Email Frank\",\"Call Sarah\", \"Meet with Zach\"]\n",
    "latest_tasks_accomplished = tasks.pop(1)\n",
    "print(latest_tasks_accomplished)\n",
    "\n",
    "\n"
   ]
  },
  {
   "cell_type": "code",
   "execution_count": 42,
   "metadata": {},
   "outputs": [
    {
     "name": "stdout",
     "output_type": "stream",
     "text": [
      "['Call Sarah']\n"
     ]
    }
   ],
   "source": [
    "tasks_accomplished.append(latest_tasks_accomplished) # Or (tasks.pop(1))\n",
    "print(tasks_accomplished)"
   ]
  },
  {
   "cell_type": "code",
   "execution_count": 43,
   "metadata": {},
   "outputs": [
    {
     "data": {
      "text/plain": [
       "'Meet with Zach'"
      ]
     },
     "execution_count": 43,
     "metadata": {},
     "output_type": "execute_result"
    }
   ],
   "source": [
    "latest_task_accomplished = tasks.pop()\n",
    "latest_task_accomplished"
   ]
  },
  {
   "cell_type": "code",
   "execution_count": 44,
   "metadata": {},
   "outputs": [
    {
     "name": "stdout",
     "output_type": "stream",
     "text": [
      "['Call Sarah']\n"
     ]
    }
   ],
   "source": [
    "tasks = []\n",
    "tasks_accomplished = []\n",
    "tasks = [\"Email Frank\",\"Call Sarah\",\"Meet with Zach\"]\n",
    "tasks_accomplished.insert(1,tasks.pop(1))\n",
    "print(tasks_accomplished)"
   ]
  },
  {
   "cell_type": "code",
   "execution_count": 45,
   "metadata": {},
   "outputs": [
    {
     "name": "stdout",
     "output_type": "stream",
     "text": [
      "The second state founded was Pennsylvania\n"
     ]
    }
   ],
   "source": [
    "states_in_order_of_founding = (\"Delaware\",\"Pennsylvania\",\"New Jersey\",\"Georgia\")\n",
    "second_state_founded = states_in_order_of_founding[1]\n",
    "print(\"The second state founded was \" + second_state_founded)"
   ]
  },
  {
   "cell_type": "code",
   "execution_count": 46,
   "metadata": {},
   "outputs": [
    {
     "name": "stdout",
     "output_type": "stream",
     "text": [
      "Its one of the cleanest cities\n"
     ]
    }
   ],
   "source": [
    "city_to_check = \"Tucson\"\n",
    "cleanest_cities = [\"Cheyenne\",\"Santa Fe\", \"Tucson\",\"Great Falls\",\"Honolulu\"]\n",
    "for a_clean_city in cleanest_cities:\n",
    "    if city_to_check == a_clean_city:\n",
    "        print(\"Its one of the cleanest cities\")"
   ]
  },
  {
   "cell_type": "code",
   "execution_count": 47,
   "metadata": {},
   "outputs": [
    {
     "name": "stdout",
     "output_type": "stream",
     "text": [
      "There are no cities to show \n"
     ]
    }
   ],
   "source": [
    "x = \"Tucson\"\n",
    "y= \"Santa Fe\"\n",
    "z = \"Cheyenne\"\n",
    "for x in y:\n",
    "    if x == z:\n",
    "        print(\"Its one of the cleanest cities\")\n",
    "else:\n",
    "        print(\"There are no cities to show \")\n",
    "            "
   ]
  },
  {
   "cell_type": "code",
   "execution_count": 48,
   "metadata": {},
   "outputs": [
    {
     "name": "stdout",
     "output_type": "stream",
     "text": [
      "['Usaid Ahmed']\n",
      "['Usaid Ahmed', 'Usaid Kalson']\n",
      "['Usaid Ahmed', 'Usaid Kalson', 'Usaid Rauf']\n",
      "['Usaid Ahmed', 'Usaid Kalson', 'Usaid Rauf', 'Usaid Khan']\n",
      "['Usaid Ahmed', 'Usaid Kalson', 'Usaid Rauf', 'Usaid Khan', 'Usaid Majeed']\n",
      "['Usaid Ahmed', 'Usaid Kalson', 'Usaid Rauf', 'Usaid Khan', 'Usaid Majeed', 'Iqbal Ahmed']\n",
      "['Usaid Ahmed', 'Usaid Kalson', 'Usaid Rauf', 'Usaid Khan', 'Usaid Majeed', 'Iqbal Ahmed', 'Iqbal Kalson']\n",
      "['Usaid Ahmed', 'Usaid Kalson', 'Usaid Rauf', 'Usaid Khan', 'Usaid Majeed', 'Iqbal Ahmed', 'Iqbal Kalson', 'Iqbal Rauf']\n",
      "['Usaid Ahmed', 'Usaid Kalson', 'Usaid Rauf', 'Usaid Khan', 'Usaid Majeed', 'Iqbal Ahmed', 'Iqbal Kalson', 'Iqbal Rauf', 'Iqbal Khan']\n",
      "['Usaid Ahmed', 'Usaid Kalson', 'Usaid Rauf', 'Usaid Khan', 'Usaid Majeed', 'Iqbal Ahmed', 'Iqbal Kalson', 'Iqbal Rauf', 'Iqbal Khan', 'Iqbal Majeed']\n",
      "['Usaid Ahmed', 'Usaid Kalson', 'Usaid Rauf', 'Usaid Khan', 'Usaid Majeed', 'Iqbal Ahmed', 'Iqbal Kalson', 'Iqbal Rauf', 'Iqbal Khan', 'Iqbal Majeed', 'Ahmed Ahmed']\n",
      "['Usaid Ahmed', 'Usaid Kalson', 'Usaid Rauf', 'Usaid Khan', 'Usaid Majeed', 'Iqbal Ahmed', 'Iqbal Kalson', 'Iqbal Rauf', 'Iqbal Khan', 'Iqbal Majeed', 'Ahmed Ahmed', 'Ahmed Kalson']\n",
      "['Usaid Ahmed', 'Usaid Kalson', 'Usaid Rauf', 'Usaid Khan', 'Usaid Majeed', 'Iqbal Ahmed', 'Iqbal Kalson', 'Iqbal Rauf', 'Iqbal Khan', 'Iqbal Majeed', 'Ahmed Ahmed', 'Ahmed Kalson', 'Ahmed Rauf']\n",
      "['Usaid Ahmed', 'Usaid Kalson', 'Usaid Rauf', 'Usaid Khan', 'Usaid Majeed', 'Iqbal Ahmed', 'Iqbal Kalson', 'Iqbal Rauf', 'Iqbal Khan', 'Iqbal Majeed', 'Ahmed Ahmed', 'Ahmed Kalson', 'Ahmed Rauf', 'Ahmed Khan']\n",
      "['Usaid Ahmed', 'Usaid Kalson', 'Usaid Rauf', 'Usaid Khan', 'Usaid Majeed', 'Iqbal Ahmed', 'Iqbal Kalson', 'Iqbal Rauf', 'Iqbal Khan', 'Iqbal Majeed', 'Ahmed Ahmed', 'Ahmed Kalson', 'Ahmed Rauf', 'Ahmed Khan', 'Ahmed Majeed']\n",
      "['Usaid Ahmed', 'Usaid Kalson', 'Usaid Rauf', 'Usaid Khan', 'Usaid Majeed', 'Iqbal Ahmed', 'Iqbal Kalson', 'Iqbal Rauf', 'Iqbal Khan', 'Iqbal Majeed', 'Ahmed Ahmed', 'Ahmed Kalson', 'Ahmed Rauf', 'Ahmed Khan', 'Ahmed Majeed', 'Bilal Ahmed']\n",
      "['Usaid Ahmed', 'Usaid Kalson', 'Usaid Rauf', 'Usaid Khan', 'Usaid Majeed', 'Iqbal Ahmed', 'Iqbal Kalson', 'Iqbal Rauf', 'Iqbal Khan', 'Iqbal Majeed', 'Ahmed Ahmed', 'Ahmed Kalson', 'Ahmed Rauf', 'Ahmed Khan', 'Ahmed Majeed', 'Bilal Ahmed', 'Bilal Kalson']\n",
      "['Usaid Ahmed', 'Usaid Kalson', 'Usaid Rauf', 'Usaid Khan', 'Usaid Majeed', 'Iqbal Ahmed', 'Iqbal Kalson', 'Iqbal Rauf', 'Iqbal Khan', 'Iqbal Majeed', 'Ahmed Ahmed', 'Ahmed Kalson', 'Ahmed Rauf', 'Ahmed Khan', 'Ahmed Majeed', 'Bilal Ahmed', 'Bilal Kalson', 'Bilal Rauf']\n",
      "['Usaid Ahmed', 'Usaid Kalson', 'Usaid Rauf', 'Usaid Khan', 'Usaid Majeed', 'Iqbal Ahmed', 'Iqbal Kalson', 'Iqbal Rauf', 'Iqbal Khan', 'Iqbal Majeed', 'Ahmed Ahmed', 'Ahmed Kalson', 'Ahmed Rauf', 'Ahmed Khan', 'Ahmed Majeed', 'Bilal Ahmed', 'Bilal Kalson', 'Bilal Rauf', 'Bilal Khan']\n",
      "['Usaid Ahmed', 'Usaid Kalson', 'Usaid Rauf', 'Usaid Khan', 'Usaid Majeed', 'Iqbal Ahmed', 'Iqbal Kalson', 'Iqbal Rauf', 'Iqbal Khan', 'Iqbal Majeed', 'Ahmed Ahmed', 'Ahmed Kalson', 'Ahmed Rauf', 'Ahmed Khan', 'Ahmed Majeed', 'Bilal Ahmed', 'Bilal Kalson', 'Bilal Rauf', 'Bilal Khan', 'Bilal Majeed']\n",
      "['Usaid Ahmed', 'Usaid Kalson', 'Usaid Rauf', 'Usaid Khan', 'Usaid Majeed', 'Iqbal Ahmed', 'Iqbal Kalson', 'Iqbal Rauf', 'Iqbal Khan', 'Iqbal Majeed', 'Ahmed Ahmed', 'Ahmed Kalson', 'Ahmed Rauf', 'Ahmed Khan', 'Ahmed Majeed', 'Bilal Ahmed', 'Bilal Kalson', 'Bilal Rauf', 'Bilal Khan', 'Bilal Majeed', 'Saad Ahmed']\n",
      "['Usaid Ahmed', 'Usaid Kalson', 'Usaid Rauf', 'Usaid Khan', 'Usaid Majeed', 'Iqbal Ahmed', 'Iqbal Kalson', 'Iqbal Rauf', 'Iqbal Khan', 'Iqbal Majeed', 'Ahmed Ahmed', 'Ahmed Kalson', 'Ahmed Rauf', 'Ahmed Khan', 'Ahmed Majeed', 'Bilal Ahmed', 'Bilal Kalson', 'Bilal Rauf', 'Bilal Khan', 'Bilal Majeed', 'Saad Ahmed', 'Saad Kalson']\n",
      "['Usaid Ahmed', 'Usaid Kalson', 'Usaid Rauf', 'Usaid Khan', 'Usaid Majeed', 'Iqbal Ahmed', 'Iqbal Kalson', 'Iqbal Rauf', 'Iqbal Khan', 'Iqbal Majeed', 'Ahmed Ahmed', 'Ahmed Kalson', 'Ahmed Rauf', 'Ahmed Khan', 'Ahmed Majeed', 'Bilal Ahmed', 'Bilal Kalson', 'Bilal Rauf', 'Bilal Khan', 'Bilal Majeed', 'Saad Ahmed', 'Saad Kalson', 'Saad Rauf']\n",
      "['Usaid Ahmed', 'Usaid Kalson', 'Usaid Rauf', 'Usaid Khan', 'Usaid Majeed', 'Iqbal Ahmed', 'Iqbal Kalson', 'Iqbal Rauf', 'Iqbal Khan', 'Iqbal Majeed', 'Ahmed Ahmed', 'Ahmed Kalson', 'Ahmed Rauf', 'Ahmed Khan', 'Ahmed Majeed', 'Bilal Ahmed', 'Bilal Kalson', 'Bilal Rauf', 'Bilal Khan', 'Bilal Majeed', 'Saad Ahmed', 'Saad Kalson', 'Saad Rauf', 'Saad Khan']\n",
      "['Usaid Ahmed', 'Usaid Kalson', 'Usaid Rauf', 'Usaid Khan', 'Usaid Majeed', 'Iqbal Ahmed', 'Iqbal Kalson', 'Iqbal Rauf', 'Iqbal Khan', 'Iqbal Majeed', 'Ahmed Ahmed', 'Ahmed Kalson', 'Ahmed Rauf', 'Ahmed Khan', 'Ahmed Majeed', 'Bilal Ahmed', 'Bilal Kalson', 'Bilal Rauf', 'Bilal Khan', 'Bilal Majeed', 'Saad Ahmed', 'Saad Kalson', 'Saad Rauf', 'Saad Khan', 'Saad Majeed']\n"
     ]
    }
   ],
   "source": [
    "first_name = [\"Usaid\",\"Iqbal\",\"Ahmed\",\"Bilal\",\"Saad\"]\n",
    "last_name = [\"Ahmed\",\"Kalson\",\"Rauf\",\"Khan\",\"Majeed\"]\n",
    "full_name = []\n",
    "for a_first_name in first_name:\n",
    "    for a_last_name in last_name:\n",
    "        full_name.append(a_first_name + \" \" + a_last_name)\n",
    "        print(full_name)\n",
    "    "
   ]
  },
  {
   "cell_type": "code",
   "execution_count": 49,
   "metadata": {},
   "outputs": [
    {
     "name": "stdout",
     "output_type": "stream",
     "text": [
      "Enter the name of a city Toronto\n"
     ]
    }
   ],
   "source": [
    "city_to_check = input(\"Enter the name of a city \")\n",
    "\n"
   ]
  },
  {
   "cell_type": "code",
   "execution_count": 50,
   "metadata": {},
   "outputs": [
    {
     "name": "stdout",
     "output_type": "stream",
     "text": [
      "Enter monthly income 20\n"
     ]
    }
   ],
   "source": [
    "monthly_income = input(\"Enter monthly income \")\n",
    "monthly_income_as_an_integer = int(monthly_income)"
   ]
  },
  {
   "cell_type": "code",
   "execution_count": 51,
   "metadata": {},
   "outputs": [
    {
     "name": "stdout",
     "output_type": "stream",
     "text": [
      "20.0\n"
     ]
    }
   ],
   "source": [
    "monthly_income = float(monthly_income)\n",
    "print(monthly_income)"
   ]
  },
  {
   "cell_type": "code",
   "execution_count": 52,
   "metadata": {},
   "outputs": [
    {
     "name": "stdout",
     "output_type": "stream",
     "text": [
      "The minimum wage in your state is $20\n"
     ]
    }
   ],
   "source": [
    "min_wage = 20\n",
    "print(\"The minimum wage in your state is $\" + str(min_wage))"
   ]
  },
  {
   "cell_type": "code",
   "execution_count": 53,
   "metadata": {},
   "outputs": [
    {
     "name": "stdout",
     "output_type": "stream",
     "text": [
      "Enter your city santa fe\n",
      "Its one of the cleanest cities\n"
     ]
    }
   ],
   "source": [
    "city_to_check = input(\"Enter your city \")\n",
    "city_to_check = city_to_check.lower()\n",
    "cleanest_cities = [\"cheyenne\",\"santa fe\",\"tucson\"]\n",
    "for a_clean_city in cleanest_cities:\n",
    "    if city_to_check == a_clean_city:\n",
    "        print(\"Its one of the cleanest cities\")"
   ]
  },
  {
   "cell_type": "code",
   "execution_count": 54,
   "metadata": {},
   "outputs": [
    {
     "name": "stdout",
     "output_type": "stream",
     "text": [
      "{'first name': 'David', 'last name': 'Elliot', 'Address': '4803 Wellesley St.'}\n"
     ]
    }
   ],
   "source": [
    "customer_29876 = {\"first name\": \"David\", \"last name\": \"Elliot\",\"Address\": \"4803 Wellesley St.\"}\n",
    "print(customer_29876)"
   ]
  },
  {
   "cell_type": "code",
   "execution_count": 55,
   "metadata": {},
   "outputs": [
    {
     "name": "stdout",
     "output_type": "stream",
     "text": [
      "4803 Wellesley St.\n"
     ]
    }
   ],
   "source": [
    "address_of_customer = customer_29876[\"Address\"]\n",
    "print(address_of_customer)"
   ]
  },
  {
   "cell_type": "code",
   "execution_count": 56,
   "metadata": {},
   "outputs": [
    {
     "name": "stdout",
     "output_type": "stream",
     "text": [
      "{'first name': 'David', 'last name': 'Elliot', 'Address': '4803 Wellesley St.', 'city': 'Toronto'}\n"
     ]
    }
   ],
   "source": [
    "customer_29876[\"city\"] = \"Toronto\"\n",
    "print(customer_29876)"
   ]
  },
  {
   "cell_type": "code",
   "execution_count": 57,
   "metadata": {},
   "outputs": [
    {
     "name": "stdout",
     "output_type": "stream",
     "text": [
      "{'first name': 'David', 'last name': 'Elliot', 'Address': '4803 Wellesley St.'}\n"
     ]
    }
   ],
   "source": [
    "del customer_29876[\"city\"]\n",
    "print(customer_29876)\n"
   ]
  },
  {
   "cell_type": "code",
   "execution_count": 58,
   "metadata": {},
   "outputs": [
    {
     "name": "stdout",
     "output_type": "stream",
     "text": [
      "{'first name': 'David', 'last name': 'Elliot', 'Address': '4803 Wellesley St.', 'city': 'London'}\n"
     ]
    }
   ],
   "source": [
    "customer_29876[\"city\"] = \"London\"\n",
    "print(customer_29876)"
   ]
  },
  {
   "cell_type": "code",
   "execution_count": 59,
   "metadata": {},
   "outputs": [
    {
     "name": "stdout",
     "output_type": "stream",
     "text": [
      "{'first name': 'David', 'last name': 'Elliot', 'Address': '4803 Wellesley St.', 'city': 'Jamaica'}\n"
     ]
    }
   ],
   "source": [
    "customer_29876[\"city\"] = \"Jamaica\"\n",
    "print(customer_29876)"
   ]
  },
  {
   "cell_type": "code",
   "execution_count": 60,
   "metadata": {},
   "outputs": [
    {
     "name": "stdout",
     "output_type": "stream",
     "text": [
      "David\n",
      "Elliot\n",
      "4803 Wellesley St.\n"
     ]
    }
   ],
   "source": [
    "print(customer_29876[\"first name\"])\n",
    "print(customer_29876[\"last name\"])\n",
    "print(customer_29876[\"Address\"])"
   ]
  },
  {
   "cell_type": "code",
   "execution_count": 61,
   "metadata": {},
   "outputs": [
    {
     "name": "stdout",
     "output_type": "stream",
     "text": [
      "David\n",
      "Elliot\n",
      "4803 Wellesley St.\n",
      "Jamaica\n"
     ]
    }
   ],
   "source": [
    "for each_value in customer_29876.values():\n",
    "    print(each_value)"
   ]
  },
  {
   "cell_type": "code",
   "execution_count": 62,
   "metadata": {},
   "outputs": [
    {
     "name": "stdout",
     "output_type": "stream",
     "text": [
      "first name\n",
      "last name\n",
      "Address\n",
      "city\n"
     ]
    }
   ],
   "source": [
    "for each_key in customer_29876.keys():\n",
    "    print(each_key)"
   ]
  },
  {
   "cell_type": "code",
   "execution_count": 63,
   "metadata": {},
   "outputs": [
    {
     "name": "stdout",
     "output_type": "stream",
     "text": [
      "The customer's first name is David\n",
      "The customer's last name is Elliot\n",
      "The customer's Address is 4803 Wellesley St.\n",
      "The customer's city is Jamaica\n"
     ]
    }
   ],
   "source": [
    "for each_key,each_value in customer_29876.items():\n",
    "    print(\"The customer's\",each_key,\"is\",each_value)"
   ]
  },
  {
   "cell_type": "code",
   "execution_count": 64,
   "metadata": {},
   "outputs": [
    {
     "name": "stdout",
     "output_type": "stream",
     "text": [
      "David\n"
     ]
    }
   ],
   "source": [
    "customer_29876 ={\n",
    "    \"first name\": \"David\",\n",
    "    \"last name\" : \"Peterson\",\n",
    "    \"Address\" : \"4803 Wellesley St.\",\n",
    "}\n",
    "\n",
    "customer_first_name = customer_29876[\"first name\"]\n",
    "print(customer_first_name)"
   ]
  },
  {
   "cell_type": "code",
   "execution_count": 65,
   "metadata": {},
   "outputs": [],
   "source": [
    "customer = [\n",
    "{\n",
    "\"customer id\": 0,\n",
    "\"first name\": \"john\",\n",
    "\"last name\": \"Ogden\",\n",
    "\"address\":\"301 Arbor Rd.\",\n",
    "},\n",
    "]\n",
    "\n",
    "#List of dictionary."
   ]
  },
  {
   "cell_type": "code",
   "execution_count": 66,
   "metadata": {},
   "outputs": [
    {
     "name": "stdout",
     "output_type": "stream",
     "text": [
      "john\n"
     ]
    }
   ],
   "source": [
    "customer_first_name = customer[0][\"first name\"]\n",
    "print(customer_first_name)"
   ]
  },
  {
   "cell_type": "code",
   "execution_count": 67,
   "metadata": {},
   "outputs": [
    {
     "name": "stdout",
     "output_type": "stream",
     "text": [
      "Ogden\n"
     ]
    }
   ],
   "source": [
    "customer_last_name = customer[0][\"last name\"]\n",
    "print(customer_last_name)"
   ]
  },
  {
   "cell_type": "code",
   "execution_count": 68,
   "metadata": {},
   "outputs": [
    {
     "name": "stdout",
     "output_type": "stream",
     "text": [
      "The customer's customer id is 0\n",
      "The customer's first name is john\n",
      "The customer's last name is Ogden\n",
      "The customer's address is 301 Arbor Rd.\n"
     ]
    }
   ],
   "source": [
    "for each_key,each_value in customer[0].items():\n",
    "    print(\"The customer's\",each_key,\"is\",each_value)"
   ]
  },
  {
   "cell_type": "code",
   "execution_count": 69,
   "metadata": {},
   "outputs": [
    {
     "name": "stdout",
     "output_type": "stream",
     "text": [
      "4\n"
     ]
    }
   ],
   "source": [
    "new_customer_id = len(customer[0])\n",
    "print(new_customer_id)"
   ]
  },
  {
   "cell_type": "code",
   "execution_count": 70,
   "metadata": {},
   "outputs": [
    {
     "name": "stdout",
     "output_type": "stream",
     "text": [
      "[{'customer id': 0, 'first name': 'john', 'last name': 'Ogden', 'address': '301 Arbor Rd.'}, {'customer id': 2, 'first name': 'Thomas', 'last name': 'Elliot', 'Address': '469 Merchant Street'}]\n"
     ]
    }
   ],
   "source": [
    "new_dictionary = {\n",
    "\"customer id\": 2,\n",
    "\"first name\": \"Thomas\",\n",
    "\"last name\":\"Elliot\",\n",
    "\"Address\":\"469 Merchant Street\",\n",
    "}\n",
    "customer.append(new_dictionary)\n",
    "print(customer)"
   ]
  },
  {
   "cell_type": "code",
   "execution_count": 71,
   "metadata": {},
   "outputs": [],
   "source": []
  },
  {
   "cell_type": "code",
   "execution_count": null,
   "metadata": {},
   "outputs": [],
   "source": []
  },
  {
   "cell_type": "code",
   "execution_count": null,
   "metadata": {},
   "outputs": [],
   "source": []
  },
  {
   "cell_type": "code",
   "execution_count": null,
   "metadata": {},
   "outputs": [],
   "source": []
  }
 ],
 "metadata": {
  "kernelspec": {
   "display_name": "Python 3",
   "language": "python",
   "name": "python3"
  },
  "language_info": {
   "codemirror_mode": {
    "name": "ipython",
    "version": 3
   },
   "file_extension": ".py",
   "mimetype": "text/x-python",
   "name": "python",
   "nbconvert_exporter": "python",
   "pygments_lexer": "ipython3",
   "version": "3.7.3"
  }
 },
 "nbformat": 4,
 "nbformat_minor": 2
}
