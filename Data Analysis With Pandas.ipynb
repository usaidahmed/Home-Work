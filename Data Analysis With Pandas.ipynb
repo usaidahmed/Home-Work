{
 "cells": [
  {
   "cell_type": "code",
   "execution_count": 1,
   "metadata": {},
   "outputs": [
    {
     "name": "stdout",
     "output_type": "stream",
     "text": [
      "0    4\n",
      "1    7\n",
      "2   -5\n",
      "3    3\n",
      "dtype: int64\n"
     ]
    }
   ],
   "source": [
    "import pandas as pd\n",
    "obj = pd.Series([4, 7, -5, 3])\n",
    "print(obj)"
   ]
  },
  {
   "cell_type": "code",
   "execution_count": 3,
   "metadata": {},
   "outputs": [
    {
     "name": "stdout",
     "output_type": "stream",
     "text": [
      "[100 200 100 400]\n",
      "RangeIndex(start=0, stop=4, step=1)\n"
     ]
    }
   ],
   "source": [
    "sales = pd.Series([100 ,200 ,100 ,400])\n",
    "print(sales.values)\n",
    "print(sales.index)"
   ]
  },
  {
   "cell_type": "code",
   "execution_count": 10,
   "metadata": {},
   "outputs": [
    {
     "name": "stdout",
     "output_type": "stream",
     "text": [
      "Jan    100\n",
      "Feb    200\n",
      "Mar    100\n",
      "Apr    400\n",
      "dtype: int64\n",
      "[100 200 100 400]\n",
      "Index(['Jan', 'Feb', 'Mar', 'Apr'], dtype='object')\n"
     ]
    }
   ],
   "source": [
    "sales = pd.Series([100, 200, 100, 400], index = [\"Jan\" , \"Feb\", \"Mar\", \"Apr\"])\n",
    "print(sales)\n",
    "print(sales.values)\n",
    "print(sales.index)"
   ]
  },
  {
   "cell_type": "code",
   "execution_count": 11,
   "metadata": {},
   "outputs": [],
   "source": [
    "sales = pd.Series([100, 200, 100, 400], index = [\"Jan\" , \"Feb\", \"Mar\", \"Apr\"], name = \"4 month sales\")"
   ]
  },
  {
   "cell_type": "code",
   "execution_count": 12,
   "metadata": {},
   "outputs": [
    {
     "name": "stdout",
     "output_type": "stream",
     "text": [
      "Jan    100\n",
      "Feb    200\n",
      "Mar    100\n",
      "Apr    400\n",
      "Name: 4 month sales, dtype: int64\n"
     ]
    }
   ],
   "source": [
    "print(sales)"
   ]
  },
  {
   "cell_type": "code",
   "execution_count": 17,
   "metadata": {},
   "outputs": [
    {
     "name": "stdout",
     "output_type": "stream",
     "text": [
      "Mon    20\n",
      "Tue    30\n",
      "Wed    20\n",
      "Thu    25\n",
      "Fri    30\n",
      "Sat    40\n",
      "Sun     0\n",
      "Name: Sales of Sandwiches in a week, dtype: int64\n"
     ]
    }
   ],
   "source": [
    "# Creating the series of Canteen Sales (Snadwiches)\n",
    "sw = pd.Series([20, 30, 20, 25, 30 ,40, 0], \n",
    "               index = [\"Mon\", \"Tue\",\"Wed\", \"Thu\", \"Fri\",\"Sat\", \"Sun\"], name = \"Sales of Sandwiches in a week\")\n",
    "print(sw)"
   ]
  },
  {
   "cell_type": "code",
   "execution_count": 18,
   "metadata": {},
   "outputs": [
    {
     "name": "stdout",
     "output_type": "stream",
     "text": [
      "30\n"
     ]
    }
   ],
   "source": [
    "print(sw[1])"
   ]
  },
  {
   "cell_type": "code",
   "execution_count": 20,
   "metadata": {},
   "outputs": [
    {
     "name": "stdout",
     "output_type": "stream",
     "text": [
      "30\n"
     ]
    }
   ],
   "source": [
    "print(sw[\"Tue\"])"
   ]
  },
  {
   "cell_type": "code",
   "execution_count": 21,
   "metadata": {},
   "outputs": [
    {
     "name": "stdout",
     "output_type": "stream",
     "text": [
      "0\n"
     ]
    }
   ],
   "source": [
    "print(sw[\"Sun\"])"
   ]
  },
  {
   "cell_type": "code",
   "execution_count": 23,
   "metadata": {},
   "outputs": [
    {
     "name": "stdout",
     "output_type": "stream",
     "text": [
      "Thu    25\n",
      "Sat    40\n",
      "Name: Sales of Sandwiches in a week, dtype: int64\n"
     ]
    }
   ],
   "source": [
    "print(sw[ [3,5] ])"
   ]
  },
  {
   "cell_type": "code",
   "execution_count": 25,
   "metadata": {},
   "outputs": [
    {
     "name": "stdout",
     "output_type": "stream",
     "text": [
      "Tue    30\n",
      "Thu    25\n",
      "Name: Sales of Sandwiches in a week, dtype: int64\n"
     ]
    }
   ],
   "source": [
    "print(sw[ [\"Tue\", \"Thu\"] ])"
   ]
  },
  {
   "cell_type": "code",
   "execution_count": 26,
   "metadata": {},
   "outputs": [
    {
     "name": "stdout",
     "output_type": "stream",
     "text": [
      "Tue    30\n",
      "Thu    25\n",
      "Fri    30\n",
      "Sat    40\n",
      "Name: Sales of Sandwiches in a week, dtype: int64\n"
     ]
    }
   ],
   "source": [
    "print(sw[sw > 20])"
   ]
  },
  {
   "cell_type": "code",
   "execution_count": 29,
   "metadata": {},
   "outputs": [
    {
     "name": "stdout",
     "output_type": "stream",
     "text": [
      "Mon    40\n",
      "Tue    60\n",
      "Wed    40\n",
      "Thu    50\n",
      "Fri    60\n",
      "Sat    80\n",
      "Sun     0\n",
      "Name: Sales of Sandwiches in a week, dtype: int64\n"
     ]
    }
   ],
   "source": [
    "sw * 2\n",
    "sw = sw *2\n",
    "print(sw)"
   ]
  },
  {
   "cell_type": "code",
   "execution_count": 30,
   "metadata": {},
   "outputs": [
    {
     "name": "stdout",
     "output_type": "stream",
     "text": [
      "Mon    40\n",
      "Tue    60\n",
      "Wed    40\n",
      "Thu    50\n",
      "Fri    60\n",
      "Sat    80\n",
      "Sun     0\n",
      "Name: Sales of Sandwiches in a week, dtype: int64\n"
     ]
    }
   ],
   "source": [
    " print(sw)"
   ]
  },
  {
   "cell_type": "code",
   "execution_count": 31,
   "metadata": {},
   "outputs": [
    {
     "name": "stdout",
     "output_type": "stream",
     "text": [
      "Mon    20.0\n",
      "Tue    30.0\n",
      "Wed    20.0\n",
      "Thu    25.0\n",
      "Fri    30.0\n",
      "Sat    40.0\n",
      "Sun     0.0\n",
      "Name: Sales of Sandwiches in a week, dtype: float64\n"
     ]
    }
   ],
   "source": [
    "sw = sw /2\n",
    "print(sw)"
   ]
  },
  {
   "cell_type": "code",
   "execution_count": 32,
   "metadata": {},
   "outputs": [
    {
     "data": {
      "text/plain": [
       "True"
      ]
     },
     "execution_count": 32,
     "metadata": {},
     "output_type": "execute_result"
    }
   ],
   "source": [
    "\"Mon\" in sw"
   ]
  },
  {
   "cell_type": "code",
   "execution_count": 33,
   "metadata": {},
   "outputs": [
    {
     "name": "stdout",
     "output_type": "stream",
     "text": [
      "a    3\n",
      "b    2\n",
      "c    4\n",
      "d    5\n",
      "e    6\n",
      "dtype: int32\n"
     ]
    }
   ],
   "source": [
    "import numpy as np\n",
    "ar = np.array([3 ,2 ,4 ,5 ,6])\n",
    "ind = np.array([\"a\", \"b\", \"c\", \"d\", \"e\"])\n",
    "\n",
    "obj2 = pd.Series(ar, index = ind)\n",
    "print(obj2)"
   ]
  },
  {
   "cell_type": "code",
   "execution_count": 39,
   "metadata": {},
   "outputs": [
    {
     "name": "stdout",
     "output_type": "stream",
     "text": [
      "Sindh          35000\n",
      "Punjab          4500\n",
      "KPK             3000\n",
      "Balochistan     2000\n",
      "dtype: int64\n",
      "Index(['Sindh', 'Punjab', 'KPK', 'Balochistan'], dtype='object')\n"
     ]
    }
   ],
   "source": [
    "sdata = {\"Sindh\": 35000, \"Punjab\": 4500, \"KPK\": 3000, \"Balochistan\":2000}\n",
    "tax_by_state = pd.Series(sdata)\n",
    "print(tax_by_state)\n",
    "print(tax_by_state.index)"
   ]
  },
  {
   "cell_type": "code",
   "execution_count": 51,
   "metadata": {},
   "outputs": [
    {
     "name": "stdout",
     "output_type": "stream",
     "text": [
      "states name\n",
      "Punjab         45000.0\n",
      "Sindh          35000.0\n",
      "KPK            30000.0\n",
      "Balochistan    20000.0\n",
      "GB                 NaN\n",
      "Name: state tax paying capacity, dtype: float64\n",
      "Index(['Punjab', 'Sindh', 'KPK', 'Balochistan', 'GB'], dtype='object', name='states name')\n",
      "states name\n",
      "Punjab         False\n",
      "Sindh          False\n",
      "KPK            False\n",
      "Balochistan    False\n",
      "GB              True\n",
      "Name: state tax paying capacity, dtype: bool\n"
     ]
    }
   ],
   "source": [
    "sdata = {\"Sindh\": 35000, \"Punjab\": 45000, \"KPK\": 30000, \"Balochistan\":20000}\n",
    "tax_by_state = pd.Series(sdata, index = [\"Punjab\", \"Sindh\", \"KPK\", \"Balochistan\",\"GB\"])\n",
    "tax_by_state.name = \"state tax paying capacity\"\n",
    "tax_by_state.index.name = \"states name\"\n",
    "print(tax_by_state)\n",
    "print(tax_by_state.index)\n",
    "print(pd.isnull(tax_by_state))\n"
   ]
  },
  {
   "cell_type": "code",
   "execution_count": 48,
   "metadata": {},
   "outputs": [
    {
     "data": {
      "text/plain": [
       "Punjab         False\n",
       "Sindh          False\n",
       "KPK            False\n",
       "Balochistan    False\n",
       "GB              True\n",
       "dtype: bool"
      ]
     },
     "execution_count": 48,
     "metadata": {},
     "output_type": "execute_result"
    }
   ],
   "source": [
    "tax_by_state.isnull()"
   ]
  },
  {
   "cell_type": "code",
   "execution_count": 54,
   "metadata": {},
   "outputs": [
    {
     "name": "stdout",
     "output_type": "stream",
     "text": [
      "Mon    20\n",
      "Tue    30\n",
      "Wed    20\n",
      "Thu    25\n",
      "Fri    30\n",
      "Sat    40\n",
      "Sun     0\n",
      "dtype: int64\n",
      "M    20\n",
      "T    30\n",
      "W    20\n",
      "T    25\n",
      "F    30\n",
      "S    40\n",
      "S     0\n",
      "dtype: int64\n"
     ]
    }
   ],
   "source": [
    "sw = pd.Series([20, 30, 20, 25, 30, 40, 0],\n",
    "              index = [\"Mon\", \"Tue\",\"Wed\",\"Thu\",\"Fri\",\"Sat\",\"Sun\"])\n",
    "print(sw)\n",
    "\n",
    "sw.index = [\"M\",\"T\",\"W\",\"T\",\"F\",\"S\",\"S\"]\n",
    "print(sw)"
   ]
  },
  {
   "cell_type": "code",
   "execution_count": null,
   "metadata": {},
   "outputs": [],
   "source": []
  }
 ],
 "metadata": {
  "kernelspec": {
   "display_name": "Python 3",
   "language": "python",
   "name": "python3"
  },
  "language_info": {
   "codemirror_mode": {
    "name": "ipython",
    "version": 3
   },
   "file_extension": ".py",
   "mimetype": "text/x-python",
   "name": "python",
   "nbconvert_exporter": "python",
   "pygments_lexer": "ipython3",
   "version": "3.7.4"
  }
 },
 "nbformat": 4,
 "nbformat_minor": 2
}
