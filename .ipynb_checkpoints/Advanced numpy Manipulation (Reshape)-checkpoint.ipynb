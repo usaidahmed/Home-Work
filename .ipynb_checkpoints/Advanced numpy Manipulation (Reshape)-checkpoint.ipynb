{
 "cells": [
  {
   "cell_type": "code",
   "execution_count": 1,
   "metadata": {},
   "outputs": [],
   "source": [
    "import numpy as np"
   ]
  },
  {
   "cell_type": "code",
   "execution_count": 2,
   "metadata": {},
   "outputs": [],
   "source": [
    "x = np.random.randn(4,5)"
   ]
  },
  {
   "cell_type": "code",
   "execution_count": 3,
   "metadata": {},
   "outputs": [
    {
     "data": {
      "text/plain": [
       "array([[-0.63438108,  0.09292499,  0.47685818, -0.69749924,  0.07226992],\n",
       "       [-0.02313996, -0.16502646,  1.47988696,  0.86189732, -1.75264167],\n",
       "       [-0.08669265, -1.45733331, -1.6609634 , -1.02672275,  1.08544637],\n",
       "       [-1.27920976, -2.06617154,  0.5428713 , -0.58423753,  2.61992657]])"
      ]
     },
     "execution_count": 3,
     "metadata": {},
     "output_type": "execute_result"
    }
   ],
   "source": [
    "x"
   ]
  },
  {
   "cell_type": "code",
   "execution_count": 4,
   "metadata": {},
   "outputs": [
    {
     "data": {
      "text/plain": [
       "array([[[-0.63438108,  0.09292499,  0.47685818, -0.69749924,\n",
       "          0.07226992],\n",
       "        [-0.02313996, -0.16502646,  1.47988696,  0.86189732,\n",
       "         -1.75264167]],\n",
       "\n",
       "       [[-0.08669265, -1.45733331, -1.6609634 , -1.02672275,\n",
       "          1.08544637],\n",
       "        [-1.27920976, -2.06617154,  0.5428713 , -0.58423753,\n",
       "          2.61992657]]])"
      ]
     },
     "execution_count": 4,
     "metadata": {},
     "output_type": "execute_result"
    }
   ],
   "source": [
    "x.reshape(2,2,5) # By Default python uses C order"
   ]
  },
  {
   "cell_type": "code",
   "execution_count": 5,
   "metadata": {},
   "outputs": [
    {
     "data": {
      "text/plain": [
       "array([[[-0.63438108,  0.09292499,  0.47685818, -0.69749924,\n",
       "          0.07226992],\n",
       "        [-0.08669265, -1.45733331, -1.6609634 , -1.02672275,\n",
       "          1.08544637]],\n",
       "\n",
       "       [[-0.02313996, -0.16502646,  1.47988696,  0.86189732,\n",
       "         -1.75264167],\n",
       "        [-1.27920976, -2.06617154,  0.5428713 , -0.58423753,\n",
       "          2.61992657]]])"
      ]
     },
     "execution_count": 5,
     "metadata": {},
     "output_type": "execute_result"
    }
   ],
   "source": [
    "x.reshape((2,2,5),order = \"F\") #Fortran Order "
   ]
  },
  {
   "cell_type": "code",
   "execution_count": 6,
   "metadata": {},
   "outputs": [
    {
     "data": {
      "text/plain": [
       "array([[[-0.63438108,  0.09292499,  0.47685818, -0.69749924,\n",
       "          0.07226992],\n",
       "        [-0.02313996, -0.16502646,  1.47988696,  0.86189732,\n",
       "         -1.75264167]],\n",
       "\n",
       "       [[-0.08669265, -1.45733331, -1.6609634 , -1.02672275,\n",
       "          1.08544637],\n",
       "        [-1.27920976, -2.06617154,  0.5428713 , -0.58423753,\n",
       "          2.61992657]]])"
      ]
     },
     "execution_count": 6,
     "metadata": {},
     "output_type": "execute_result"
    }
   ],
   "source": [
    "x.reshape((2,2,-1)) # -1 Skips the data from the dimension and is responsible for the data of that dimension "
   ]
  },
  {
   "cell_type": "code",
   "execution_count": 7,
   "metadata": {},
   "outputs": [
    {
     "data": {
      "text/plain": [
       "array([[-0.63438108,  0.09292499,  0.47685818, -0.69749924,  0.07226992],\n",
       "       [-0.02313996, -0.16502646,  1.47988696,  0.86189732, -1.75264167],\n",
       "       [-0.08669265, -1.45733331, -1.6609634 , -1.02672275,  1.08544637],\n",
       "       [-1.27920976, -2.06617154,  0.5428713 , -0.58423753,  2.61992657]])"
      ]
     },
     "execution_count": 7,
     "metadata": {},
     "output_type": "execute_result"
    }
   ],
   "source": [
    "x"
   ]
  },
  {
   "cell_type": "code",
   "execution_count": 8,
   "metadata": {},
   "outputs": [
    {
     "data": {
      "text/plain": [
       "array([-0.63438108,  0.09292499,  0.47685818, -0.69749924,  0.07226992,\n",
       "       -0.02313996, -0.16502646,  1.47988696,  0.86189732, -1.75264167,\n",
       "       -0.08669265, -1.45733331, -1.6609634 , -1.02672275,  1.08544637,\n",
       "       -1.27920976, -2.06617154,  0.5428713 , -0.58423753,  2.61992657])"
      ]
     },
     "execution_count": 8,
     "metadata": {},
     "output_type": "execute_result"
    }
   ],
   "source": [
    "x.ravel()"
   ]
  },
  {
   "cell_type": "code",
   "execution_count": 9,
   "metadata": {},
   "outputs": [
    {
     "data": {
      "text/plain": [
       "array([-0.63438108,  0.09292499,  0.47685818, -0.69749924,  0.07226992,\n",
       "       -0.02313996, -0.16502646,  1.47988696,  0.86189732, -1.75264167,\n",
       "       -0.08669265, -1.45733331, -1.6609634 , -1.02672275,  1.08544637,\n",
       "       -1.27920976, -2.06617154,  0.5428713 , -0.58423753,  2.61992657])"
      ]
     },
     "execution_count": 9,
     "metadata": {},
     "output_type": "execute_result"
    }
   ],
   "source": [
    "x.flatten()"
   ]
  },
  {
   "cell_type": "code",
   "execution_count": null,
   "metadata": {},
   "outputs": [],
   "source": []
  }
 ],
 "metadata": {
  "kernelspec": {
   "display_name": "Python 3",
   "language": "python",
   "name": "python3"
  },
  "language_info": {
   "codemirror_mode": {
    "name": "ipython",
    "version": 3
   },
   "file_extension": ".py",
   "mimetype": "text/x-python",
   "name": "python",
   "nbconvert_exporter": "python",
   "pygments_lexer": "ipython3",
   "version": "3.7.4"
  }
 },
 "nbformat": 4,
 "nbformat_minor": 2
}
