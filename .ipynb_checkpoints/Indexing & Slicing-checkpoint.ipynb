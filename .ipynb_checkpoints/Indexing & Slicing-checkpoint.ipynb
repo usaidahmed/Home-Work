{
 "cells": [
  {
   "cell_type": "code",
   "execution_count": 1,
   "metadata": {},
   "outputs": [],
   "source": [
    "import numpy as np"
   ]
  },
  {
   "cell_type": "code",
   "execution_count": 2,
   "metadata": {},
   "outputs": [],
   "source": [
    "x = np.array([1,7,9,8,5])"
   ]
  },
  {
   "cell_type": "code",
   "execution_count": 3,
   "metadata": {},
   "outputs": [
    {
     "data": {
      "text/plain": [
       "5"
      ]
     },
     "execution_count": 3,
     "metadata": {},
     "output_type": "execute_result"
    }
   ],
   "source": [
    "x[4] #Indexing"
   ]
  },
  {
   "cell_type": "code",
   "execution_count": 4,
   "metadata": {},
   "outputs": [
    {
     "data": {
      "text/plain": [
       "array([7, 9, 8])"
      ]
     },
     "execution_count": 4,
     "metadata": {},
     "output_type": "execute_result"
    }
   ],
   "source": [
    "x[x>5] #Boolean Indexing"
   ]
  },
  {
   "cell_type": "code",
   "execution_count": 5,
   "metadata": {},
   "outputs": [
    {
     "data": {
      "text/plain": [
       "array([9, 7])"
      ]
     },
     "execution_count": 5,
     "metadata": {},
     "output_type": "execute_result"
    }
   ],
   "source": [
    "x[[2,1]] # Fancy Indexing."
   ]
  },
  {
   "cell_type": "code",
   "execution_count": 7,
   "metadata": {},
   "outputs": [],
   "source": [
    "x = np.random.randn(10,10)"
   ]
  },
  {
   "cell_type": "code",
   "execution_count": 8,
   "metadata": {},
   "outputs": [
    {
     "data": {
      "text/plain": [
       "array([[ 1.16476842,  0.76453203, -0.93057441, -1.50883894, -1.31700304,\n",
       "        -1.89742319, -0.09819352,  0.52848987,  2.05296746, -0.33698885],\n",
       "       [-1.3814185 ,  0.71497404,  1.10972922, -1.1194793 ,  0.39491186,\n",
       "         1.15421456,  0.78227436,  0.27126316, -0.37820133,  0.90584712],\n",
       "       [ 2.28055918, -1.09982949, -0.09976515,  1.28861532, -0.07083922,\n",
       "        -2.57390133, -0.60674811, -0.49469496, -0.55196474,  0.48152438],\n",
       "       [-0.65940185,  0.4364308 , -0.99267854, -1.00478045,  0.71726396,\n",
       "        -0.15791935,  1.61074845,  0.05701596,  0.3642187 ,  0.11374587],\n",
       "       [ 0.15358211, -0.53742681,  0.21174111,  1.11996821, -0.88041727,\n",
       "        -0.23925089,  0.77058999,  0.04139627, -1.48622271, -0.63956494],\n",
       "       [-1.33140962, -1.15547736,  0.14816919,  0.39090216, -1.19629693,\n",
       "         0.06955261, -1.5185307 ,  1.28265409,  1.86201074,  0.30815817],\n",
       "       [ 1.39480091, -0.84266499, -0.20128275,  0.35475196, -0.89916846,\n",
       "         0.67401001,  2.25574662, -0.31099344, -0.86798212, -0.71480747],\n",
       "       [ 0.26869159, -1.44382457,  0.33460136, -0.25192035, -1.84095399,\n",
       "        -2.18323061, -0.00271479,  0.57529928,  0.76899259, -0.74402969],\n",
       "       [-0.24180429,  1.22585077,  2.43115618, -1.41853272,  1.1467717 ,\n",
       "         0.00261632, -0.64248255, -0.17388858, -0.15898939, -0.74904765],\n",
       "       [ 0.64036475, -1.42582309,  0.20064955, -1.19998377,  0.67482325,\n",
       "        -1.0410289 , -0.40710179,  0.52049869,  1.65455577,  0.23322194]])"
      ]
     },
     "execution_count": 8,
     "metadata": {},
     "output_type": "execute_result"
    }
   ],
   "source": [
    "x"
   ]
  },
  {
   "cell_type": "code",
   "execution_count": 9,
   "metadata": {},
   "outputs": [
    {
     "data": {
      "text/plain": [
       "array([ 1.16476842,  0.76453203, -0.93057441, -1.50883894, -1.31700304,\n",
       "       -1.89742319, -0.09819352,  0.52848987,  2.05296746, -0.33698885])"
      ]
     },
     "execution_count": 9,
     "metadata": {},
     "output_type": "execute_result"
    }
   ],
   "source": [
    "x[0]"
   ]
  },
  {
   "cell_type": "code",
   "execution_count": 10,
   "metadata": {},
   "outputs": [
    {
     "data": {
      "text/plain": [
       "-1.317003043313233"
      ]
     },
     "execution_count": 10,
     "metadata": {},
     "output_type": "execute_result"
    }
   ],
   "source": [
    "x[0][4]"
   ]
  },
  {
   "cell_type": "code",
   "execution_count": 12,
   "metadata": {},
   "outputs": [
    {
     "data": {
      "text/plain": [
       "array([[-1.3814185 ,  0.71497404,  1.10972922, -1.1194793 ,  0.39491186,\n",
       "         1.15421456,  0.78227436,  0.27126316, -0.37820133,  0.90584712],\n",
       "       [-0.65940185,  0.4364308 , -0.99267854, -1.00478045,  0.71726396,\n",
       "        -0.15791935,  1.61074845,  0.05701596,  0.3642187 ,  0.11374587],\n",
       "       [-1.33140962, -1.15547736,  0.14816919,  0.39090216, -1.19629693,\n",
       "         0.06955261, -1.5185307 ,  1.28265409,  1.86201074,  0.30815817],\n",
       "       [ 0.26869159, -1.44382457,  0.33460136, -0.25192035, -1.84095399,\n",
       "        -2.18323061, -0.00271479,  0.57529928,  0.76899259, -0.74402969],\n",
       "       [ 0.64036475, -1.42582309,  0.20064955, -1.19998377,  0.67482325,\n",
       "        -1.0410289 , -0.40710179,  0.52049869,  1.65455577,  0.23322194]])"
      ]
     },
     "execution_count": 12,
     "metadata": {},
     "output_type": "execute_result"
    }
   ],
   "source": [
    "x[1:10:2]"
   ]
  },
  {
   "cell_type": "code",
   "execution_count": 13,
   "metadata": {},
   "outputs": [
    {
     "data": {
      "text/plain": [
       "array([[ 1.16476842,  0.76453203, -0.93057441, -1.50883894],\n",
       "       [-1.3814185 ,  0.71497404,  1.10972922, -1.1194793 ],\n",
       "       [ 2.28055918, -1.09982949, -0.09976515,  1.28861532],\n",
       "       [-0.65940185,  0.4364308 , -0.99267854, -1.00478045],\n",
       "       [ 0.15358211, -0.53742681,  0.21174111,  1.11996821],\n",
       "       [-1.33140962, -1.15547736,  0.14816919,  0.39090216],\n",
       "       [ 1.39480091, -0.84266499, -0.20128275,  0.35475196],\n",
       "       [ 0.26869159, -1.44382457,  0.33460136, -0.25192035],\n",
       "       [-0.24180429,  1.22585077,  2.43115618, -1.41853272],\n",
       "       [ 0.64036475, -1.42582309,  0.20064955, -1.19998377]])"
      ]
     },
     "execution_count": 13,
     "metadata": {},
     "output_type": "execute_result"
    }
   ],
   "source": [
    "x[::,0:4]"
   ]
  },
  {
   "cell_type": "code",
   "execution_count": 24,
   "metadata": {},
   "outputs": [
    {
     "data": {
      "text/plain": [
       "array([[1., 1., 1., 1., 1.],\n",
       "       [1., 1., 1., 1., 1.],\n",
       "       [1., 1., 1., 1., 1.],\n",
       "       [1., 1., 1., 1., 1.],\n",
       "       [1., 1., 1., 1., 1.]])"
      ]
     },
     "execution_count": 24,
     "metadata": {},
     "output_type": "execute_result"
    }
   ],
   "source": [
    "x = np.ones((5,5))\n",
    "x"
   ]
  },
  {
   "cell_type": "code",
   "execution_count": 25,
   "metadata": {},
   "outputs": [],
   "source": [
    "x[1:-1,1:-1]=0"
   ]
  },
  {
   "cell_type": "code",
   "execution_count": 26,
   "metadata": {},
   "outputs": [
    {
     "data": {
      "text/plain": [
       "array([[1., 1., 1., 1., 1.],\n",
       "       [1., 0., 0., 0., 1.],\n",
       "       [1., 0., 0., 0., 1.],\n",
       "       [1., 0., 0., 0., 1.],\n",
       "       [1., 1., 1., 1., 1.]])"
      ]
     },
     "execution_count": 26,
     "metadata": {},
     "output_type": "execute_result"
    }
   ],
   "source": [
    "x"
   ]
  },
  {
   "cell_type": "code",
   "execution_count": null,
   "metadata": {},
   "outputs": [],
   "source": []
  }
 ],
 "metadata": {
  "kernelspec": {
   "display_name": "Python 3",
   "language": "python",
   "name": "python3"
  },
  "language_info": {
   "codemirror_mode": {
    "name": "ipython",
    "version": 3
   },
   "file_extension": ".py",
   "mimetype": "text/x-python",
   "name": "python",
   "nbconvert_exporter": "python",
   "pygments_lexer": "ipython3",
   "version": "3.7.3"
  }
 },
 "nbformat": 4,
 "nbformat_minor": 2
}
